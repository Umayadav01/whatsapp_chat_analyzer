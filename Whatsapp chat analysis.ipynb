{
 "cells": [
  {
   "cell_type": "markdown",
   "id": "03effe30",
   "metadata": {},
   "source": [
    "## Importing Libraries "
   ]
  },
  {
   "cell_type": "code",
   "execution_count": 1,
   "id": "5e644dbd",
   "metadata": {},
   "outputs": [
    {
     "name": "stderr",
     "output_type": "stream",
     "text": [
      "C:\\Users\\pcz\\anaconda3\\lib\\site-packages\\pandas\\core\\arrays\\masked.py:60: UserWarning: Pandas requires version '1.3.6' or newer of 'bottleneck' (version '1.3.5' currently installed).\n",
      "  from pandas.core import (\n"
     ]
    }
   ],
   "source": [
    "import numpy as np\n",
    "import pandas as pd\n",
    "import matplotlib.pyplot as plt\n",
    "%matplotlib inline\n",
    "import datetime as dt\n",
    "import seaborn as sns\n",
    "import re"
   ]
  },
  {
   "cell_type": "markdown",
   "id": "183ea87f",
   "metadata": {},
   "source": [
    "We will be using :\n",
    "- Regex (re) to extract and manipulate strings based on specific patterns.\n",
    "- pandas for analysis.\n",
    "- matlotlib and seaborn for visualization.\n",
    "- emoji to deal with emojis.\n",
    "- wordcloud for the most used words."
   ]
  },
  {
   "cell_type": "code",
   "execution_count": 2,
   "id": "fd456b19",
   "metadata": {},
   "outputs": [
    {
     "ename": "FileNotFoundError",
     "evalue": "[Errno 2] No such file or directory: 'WhatsApp Chat with CSE 3C Official 2023-24.txt'",
     "output_type": "error",
     "traceback": [
      "\u001b[1;31m---------------------------------------------------------------------------\u001b[0m",
      "\u001b[1;31mFileNotFoundError\u001b[0m                         Traceback (most recent call last)",
      "Cell \u001b[1;32mIn[2], line 1\u001b[0m\n\u001b[1;32m----> 1\u001b[0m f\u001b[38;5;241m=\u001b[39m\u001b[38;5;28;43mopen\u001b[39;49m\u001b[43m(\u001b[49m\u001b[38;5;124;43m'\u001b[39;49m\u001b[38;5;124;43mWhatsApp Chat with CSE 3C Official 2023-24.txt\u001b[39;49m\u001b[38;5;124;43m'\u001b[39;49m\u001b[43m,\u001b[49m\u001b[38;5;124;43m'\u001b[39;49m\u001b[38;5;124;43mr\u001b[39;49m\u001b[38;5;124;43m'\u001b[39;49m\u001b[43m,\u001b[49m\u001b[43mencoding\u001b[49m\u001b[38;5;241;43m=\u001b[39;49m\u001b[38;5;124;43m'\u001b[39;49m\u001b[38;5;124;43mutf-8\u001b[39;49m\u001b[38;5;124;43m'\u001b[39;49m\u001b[43m)\u001b[49m\n\u001b[0;32m      2\u001b[0m data\u001b[38;5;241m=\u001b[39mf\u001b[38;5;241m.\u001b[39mread()\n",
      "File \u001b[1;32m~\\anaconda3\\lib\\site-packages\\IPython\\core\\interactiveshell.py:282\u001b[0m, in \u001b[0;36m_modified_open\u001b[1;34m(file, *args, **kwargs)\u001b[0m\n\u001b[0;32m    275\u001b[0m \u001b[38;5;28;01mif\u001b[39;00m file \u001b[38;5;129;01min\u001b[39;00m {\u001b[38;5;241m0\u001b[39m, \u001b[38;5;241m1\u001b[39m, \u001b[38;5;241m2\u001b[39m}:\n\u001b[0;32m    276\u001b[0m     \u001b[38;5;28;01mraise\u001b[39;00m \u001b[38;5;167;01mValueError\u001b[39;00m(\n\u001b[0;32m    277\u001b[0m         \u001b[38;5;124mf\u001b[39m\u001b[38;5;124m\"\u001b[39m\u001b[38;5;124mIPython won\u001b[39m\u001b[38;5;124m'\u001b[39m\u001b[38;5;124mt let you open fd=\u001b[39m\u001b[38;5;132;01m{\u001b[39;00mfile\u001b[38;5;132;01m}\u001b[39;00m\u001b[38;5;124m by default \u001b[39m\u001b[38;5;124m\"\u001b[39m\n\u001b[0;32m    278\u001b[0m         \u001b[38;5;124m\"\u001b[39m\u001b[38;5;124mas it is likely to crash IPython. If you know what you are doing, \u001b[39m\u001b[38;5;124m\"\u001b[39m\n\u001b[0;32m    279\u001b[0m         \u001b[38;5;124m\"\u001b[39m\u001b[38;5;124myou can use builtins\u001b[39m\u001b[38;5;124m'\u001b[39m\u001b[38;5;124m open.\u001b[39m\u001b[38;5;124m\"\u001b[39m\n\u001b[0;32m    280\u001b[0m     )\n\u001b[1;32m--> 282\u001b[0m \u001b[38;5;28;01mreturn\u001b[39;00m io_open(file, \u001b[38;5;241m*\u001b[39margs, \u001b[38;5;241m*\u001b[39m\u001b[38;5;241m*\u001b[39mkwargs)\n",
      "\u001b[1;31mFileNotFoundError\u001b[0m: [Errno 2] No such file or directory: 'WhatsApp Chat with CSE 3C Official 2023-24.txt'"
     ]
    }
   ],
   "source": [
    "f=open('WhatsApp Chat with CSE 3C Official 2023-24.txt','r',encoding='utf-8')\n",
    "data=f.read()"
   ]
  },
  {
   "cell_type": "code",
   "execution_count": null,
   "id": "208d2629",
   "metadata": {},
   "outputs": [],
   "source": [
    "dummy=data.split('\\n')\n",
    "dummy"
   ]
  },
  {
   "cell_type": "markdown",
   "id": "83aaf3a5",
   "metadata": {},
   "source": [
    "## Preprocessing"
   ]
  },
  {
   "cell_type": "code",
   "execution_count": null,
   "id": "6d2c8985",
   "metadata": {},
   "outputs": [],
   "source": [
    "pattern = r'\\d{1,2}/\\d{1,2}/\\d{2,4}, \\d{1,2}:\\d{2}\\s[APap][Mm]\\s-\\s'\n",
    "messages = re.split(pattern, data)[1:]\n",
    "print(len(messages))"
   ]
  },
  {
   "cell_type": "code",
   "execution_count": null,
   "id": "9bb5f038",
   "metadata": {},
   "outputs": [],
   "source": [
    "dates=re.findall(pattern,data)\n",
    "print(len(dates))"
   ]
  },
  {
   "cell_type": "code",
   "execution_count": null,
   "id": "dd6202ef",
   "metadata": {},
   "outputs": [],
   "source": [
    "messages"
   ]
  },
  {
   "cell_type": "code",
   "execution_count": null,
   "id": "2318878a",
   "metadata": {},
   "outputs": [],
   "source": [
    "string= \"10/16/23, 10:11\\u202fPM - \"\n",
    "string = string.split(',')\n",
    "date, time = string[0], string[1]\n",
    "time=time.split('-')\n",
    "time=time[0].strip()\n",
    "print(date+\" and \"+time)"
   ]
  },
  {
   "cell_type": "code",
   "execution_count": null,
   "id": "16f10a78",
   "metadata": {},
   "outputs": [],
   "source": [
    "def gettimeanddate(string):\n",
    "     string = string.split(',')\n",
    "     date, time = string[0], string[1]\n",
    "     time=time.split('-')\n",
    "     time=time[0].strip()\n",
    "\n",
    "     return date+\" \"+time"
   ]
  },
  {
   "cell_type": "code",
   "execution_count": null,
   "id": "6dec7579",
   "metadata": {},
   "outputs": [],
   "source": [
    "df = pd.DataFrame({'user_message':messages, 'message_date': dates})\n",
    "df['message_date'] = df['message_date'].apply(lambda text: gettimeanddate(text))\n",
    "df.rename(columns={'message_date': 'date'}, inplace=True)\n",
    "df.head()"
   ]
  },
  {
   "cell_type": "code",
   "execution_count": null,
   "id": "2c7085a2",
   "metadata": {},
   "outputs": [],
   "source": [
    "df['user_message']"
   ]
  },
  {
   "cell_type": "code",
   "execution_count": null,
   "id": "ec2904eb",
   "metadata": {
    "scrolled": true
   },
   "outputs": [],
   "source": [
    "users = []\n",
    "messages = []\n",
    "for message in df['user_message']:\n",
    "    entry = re.split('([\\w\\W]+?):\\s', message)\n",
    "    if entry[1:]:\n",
    "        users.append(entry[1])\n",
    "        messages.append(entry[2])\n",
    "    else:\n",
    "        users.append('whatsapp notification')\n",
    "        messages.append(entry[0])\n",
    "\n",
    "df['user'] = users\n",
    "df['message'] = messages\n",
    "\n",
    "def getstring(text):\n",
    "    return text.split('\\n')[0]\n",
    "\n",
    "df['message']=df['message'].apply(lambda text:getstring(text))\n",
    "\n",
    "df.drop(['user_message'],axis=1)\n",
    "df=df[['message','date','user']]\n",
    "\n",
    "df=df.rename(columns={'message':'Message','date':'Date','user':'User'})\n",
    "df.head()"
   ]
  },
  {
   "cell_type": "code",
   "execution_count": null,
   "id": "11bcfe6f",
   "metadata": {},
   "outputs": [],
   "source": [
    "df.shape"
   ]
  },
  {
   "cell_type": "code",
   "execution_count": null,
   "id": "a942eb22",
   "metadata": {},
   "outputs": [],
   "source": [
    "df['Only date'] = pd.to_datetime(df['Date']).dt.date\n",
    "df['Year'] = pd.to_datetime(df['Date']).dt.year\n",
    "df['Month_num'] = pd.to_datetime(df['Date']).dt.month\n",
    "df['Month'] = pd.to_datetime(df['Date']).dt.month_name()\n",
    "df['Day'] = pd.to_datetime(df['Date']).dt.day\n",
    "df['Day_name'] = pd.to_datetime(df['Date']).dt.day_name()\n",
    "df['Hour'] = pd.to_datetime(df['Date']).dt.hour\n",
    "df['Minute'] = pd.to_datetime(df['Date']).dt.minute\n",
    "\n",
    "df.head()"
   ]
  },
  {
   "cell_type": "code",
   "execution_count": null,
   "id": "490a70a2",
   "metadata": {},
   "outputs": [],
   "source": [
    "df.columns"
   ]
  },
  {
   "cell_type": "code",
   "execution_count": null,
   "id": "b05c9143",
   "metadata": {},
   "outputs": [],
   "source": [
    "df[df['User']=='Seema Mam']"
   ]
  },
  {
   "cell_type": "code",
   "execution_count": null,
   "id": "50b6e691",
   "metadata": {},
   "outputs": [],
   "source": [
    "words = []\n",
    "for message in df['Message']:\n",
    "    words.extend(message.split())\n",
    "    \n",
    "print(len(words))"
   ]
  },
  {
   "cell_type": "code",
   "execution_count": null,
   "id": "cd1f7d2f",
   "metadata": {},
   "outputs": [],
   "source": [
    "df[df['Message']=='<Media omitted>']"
   ]
  },
  {
   "cell_type": "code",
   "execution_count": null,
   "id": "df6641f2",
   "metadata": {},
   "outputs": [],
   "source": [
    "df[df['User']=='whatsapp notification']"
   ]
  },
  {
   "cell_type": "markdown",
   "id": "caf42458",
   "metadata": {},
   "source": [
    "## Functions"
   ]
  },
  {
   "cell_type": "code",
   "execution_count": null,
   "id": "2b581482",
   "metadata": {},
   "outputs": [],
   "source": [
    "def fetch_stats(selected_user, df):\n",
    "\n",
    "    if (selected_user != \"Overall\"):\n",
    "        df = df[df['user'] == selected_user]\n",
    "\n",
    "    # fetch the number of msgs\n",
    "    num_messages = df.shape[0]\n",
    "\n",
    "    # fetch the number of words\n",
    "    words = []\n",
    "    for message in df['Message']:\n",
    "        words.extend(message.split())\n",
    "\n",
    "    # fetch the number of media msgs\n",
    "    num_media_msgs = df[df['Message'] == '<Media omitted>']\n",
    "\n",
    "    # fetch the number of linls shared\n",
    "    links = []\n",
    "    for message in df['Message']:\n",
    "        links.extend(extract.find_urls(message))\n",
    "\n",
    "    return num_messages,len(words), num_media_msgs.shape[0], len(links)\n"
   ]
  },
  {
   "cell_type": "code",
   "execution_count": null,
   "id": "b091818e",
   "metadata": {},
   "outputs": [],
   "source": [
    "def most_active_users(df):\n",
    "    x = df['User'].value_counts().head()\n",
    "    df = round((df['User'].value_counts() / df.shape[0]) * 100, 2).reset_index().rename(columns={'index': 'name', 'User': 'percent'})\n",
    "    return x, df\n"
   ]
  },
  {
   "cell_type": "code",
   "execution_count": null,
   "id": "824484e2",
   "metadata": {},
   "outputs": [],
   "source": [
    "def create_wordcloud(selected_user, df):\n",
    "\n",
    "    f = open('stop_hinglish.txt', 'r')\n",
    "    stop_words = f.read()\n",
    "\n",
    "    if (selected_user != \"Overall\"):\n",
    "        df = df[df['User'] == selected_user]\n",
    "\n",
    "    temp = df[df['User'] != 'whatsapp notification']\n",
    "    temp = temp[temp['Message'] != '<Media omitted>\\n']\n",
    "    temp = temp[temp['Message'] != 'This message was deleted\\n']\n",
    "\n",
    "    words = []\n",
    "\n",
    "    for message in temp['Message']:\n",
    "        for word in message.lower().split():\n",
    "            if word not in stop_words:\n",
    "                words.append(word)\n",
    "\n",
    "    words = pd.DataFrame(words, columns=['words'])\n",
    "    wc = WordCloud(width=500, height=500, min_font_size=10, background_color='white')\n",
    "    df_wc = wc.generate(words['words'].str.cat(sep=\" \"))\n",
    "    return df_wc"
   ]
  },
  {
   "cell_type": "code",
   "execution_count": null,
   "id": "5c0939ed",
   "metadata": {},
   "outputs": [],
   "source": [
    "def most_common_words(selected_user, df):\n",
    "\n",
    "    f = open('stop_hinglish.txt', 'r')\n",
    "    stop_words = f.read()\n",
    "\n",
    "    if (selected_user != \"Overall\"):\n",
    "        df = df[df['User'] == selected_user]\n",
    "\n",
    "    temp = df[df['User'] != 'whatsapp notification']\n",
    "    temp = temp[temp['Message'] != '<Media omitted>\\n']\n",
    "    temp = temp[temp['Message'] != 'This message was deleted\\n']\n",
    "\n",
    "    words = []\n",
    "\n",
    "    for message in temp['Message']:\n",
    "        for word in message.lower().split():\n",
    "            if word not in stop_words:\n",
    "                words.append(word)\n",
    "\n",
    "    pure_words = []\n",
    "    for message in words:\n",
    "        pure_words.extend([c for c in message if c in emoji.demojize(message)])\n",
    "\n",
    "    most_common_df = pd.DataFrame(Counter(words).most_common(20))\n",
    "    return most_common_df"
   ]
  },
  {
   "cell_type": "code",
   "execution_count": null,
   "id": "bea3d14b",
   "metadata": {},
   "outputs": [],
   "source": [
    "def emoji_stats(selected_user, df):\n",
    "    if (selected_user != \"Overall\"):\n",
    "        df = df[df['User'] == selected_user]\n",
    "\n",
    "    emojis = []\n",
    "    for message in df['Message']:\n",
    "        emojis.extend([c for c in message if c not in emoji.demojize(message)])\n",
    "\n",
    "    emoji_df = pd.DataFrame(Counter(emojis).most_common((len(Counter(emojis)))))\n",
    "    return emoji_df"
   ]
  },
  {
   "cell_type": "code",
   "execution_count": null,
   "id": "1ed0e79d",
   "metadata": {},
   "outputs": [],
   "source": [
    "def monthly_timeline(selected_user, df):\n",
    "    if (selected_user != \"Overall\"):\n",
    "        df = df[df['User'] == selected_user]\n",
    "\n",
    "    timeline = df.groupby(['Year', 'Month_num', 'Month']).count()['Message'].reset_index()\n",
    "\n",
    "    time = []\n",
    "    for i in range(timeline.shape[0]):\n",
    "        time.append(timeline['Month'][i] + \"-\" + str(timeline['Year'][i]))\n",
    "\n",
    "    timeline['Time'] = time\n",
    "\n",
    "    return timeline\n",
    "\n",
    "def daily_timeline(selected_user, df):\n",
    "    if (selected_user != \"Overall\"):\n",
    "        df = df[df['User'] == selected_user]\n",
    "\n",
    "    daily_timeline = df.groupby('Only_date').count()['Message'].reset_index()\n",
    "\n",
    "    return daily_timeline\n",
    "\n",
    "def week_activity_map(selected_user, df):\n",
    "    if (selected_user != \"Overall\"):\n",
    "        df = df[df['User'] == selected_user]\n",
    "\n",
    "    return df['Day_name'].value_counts()\n",
    "\n",
    "def month_activity_map(selected_user, df):\n",
    "    if (selected_user != \"Overall\"):\n",
    "        df = df[df['User'] == selected_user]\n",
    "\n",
    "    return df['Month'].value_counts()\n",
    "\n",
    "def activity_heatmap(selected_user, df):\n",
    "    if (selected_user != \"Overall\"):\n",
    "        df = df[df['User'] == selected_user]\n",
    "\n",
    "    user_heatmap = df.pivot_table(index='Day_name', values='Message', aggfunc='count').fillna(0)\n",
    "\n",
    "    return user_heatmap"
   ]
  },
  {
   "cell_type": "markdown",
   "id": "b93031d8",
   "metadata": {},
   "source": [
    "### Top 10 most active users"
   ]
  },
  {
   "cell_type": "code",
   "execution_count": null,
   "id": "55223a06",
   "metadata": {},
   "outputs": [],
   "source": [
    "df2 = df.copy()    \n",
    "df2 = df2[df2.User != \"group_notification\"]\n",
    "top10df = df2.groupby(\"User\")[\"Message\"].count().sort_values(ascending=False)\n",
    "\n",
    "# Final Data Frame\n",
    "top10df = top10df.head(10).reset_index()\n",
    "top10df"
   ]
  },
  {
   "cell_type": "code",
   "execution_count": null,
   "id": "9dd4b030",
   "metadata": {},
   "outputs": [],
   "source": [
    "# For better readablity;\n",
    "import matplotlib\n",
    "matplotlib.rcParams['font.size'] = 14\n",
    "matplotlib.rcParams['figure.figsize'] = (9, 5)\n",
    "matplotlib.rcParams['figure.facecolor'] = '#00000000'"
   ]
  },
  {
   "cell_type": "code",
   "execution_count": null,
   "id": "f3c4db11",
   "metadata": {},
   "outputs": [],
   "source": [
    "top10df['initials'] = ''\n",
    "for i in range(10):\n",
    "    top10df.initials[i] = top10df.User[i].split()[0][0] + top10df.User[i].split()[1][0]\n",
    "    \n",
    "top10df.initials[7] = \"Me\"    # That's me\n",
    "top10df.initials[8] = \"DT\""
   ]
  },
  {
   "cell_type": "markdown",
   "id": "a72f71f5",
   "metadata": {},
   "source": [
    "# Visualisation"
   ]
  },
  {
   "cell_type": "markdown",
   "id": "cc81e0bd",
   "metadata": {},
   "source": [
    "### Plotting a simple line graph."
   ]
  },
  {
   "cell_type": "code",
   "execution_count": null,
   "id": "f53e7fb7",
   "metadata": {},
   "outputs": [],
   "source": [
    "sns.set_style(\"whitegrid\")\n",
    "\n",
    "plt.figure(figsize=(12, 6))\n",
    "\n",
    "plt.plot(top10df.initials, top10df.Message, 'o--c')  \n",
    "\n",
    "plt.xlabel('Users')\n",
    "plt.ylabel('Total number of messages')\n",
    "\n",
    "plt.title(\"Number of messages sent by group members.\")\n",
    "plt.legend(['Messages'])"
   ]
  },
  {
   "cell_type": "markdown",
   "id": "e92e21f5",
   "metadata": {},
   "source": [
    "### Plotting a bar chart and line graph together."
   ]
  },
  {
   "cell_type": "code",
   "execution_count": null,
   "id": "8f026233",
   "metadata": {},
   "outputs": [],
   "source": [
    "sns.set_style(\"whitegrid\")\n",
    "\n",
    "plt.figure(figsize=(12, 6))\n",
    "\n",
    "plt.bar(top10df.initials, top10df.Message) \n",
    "plt.plot(top10df.initials, top10df.Message, 'o--c');  "
   ]
  }
 ],
 "metadata": {
  "kernelspec": {
   "display_name": "Python 3 (ipykernel)",
   "language": "python",
   "name": "python3"
  },
  "language_info": {
   "codemirror_mode": {
    "name": "ipython",
    "version": 3
   },
   "file_extension": ".py",
   "mimetype": "text/x-python",
   "name": "python",
   "nbconvert_exporter": "python",
   "pygments_lexer": "ipython3",
   "version": "3.10.9"
  }
 },
 "nbformat": 4,
 "nbformat_minor": 5
}
